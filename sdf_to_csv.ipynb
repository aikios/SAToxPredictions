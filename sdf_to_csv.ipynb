{
  "nbformat": 4,
  "nbformat_minor": 0,
  "metadata": {
    "colab": {
      "name": "fgdataformatting.ipynb",
      "provenance": [],
      "include_colab_link": true
    },
    "kernelspec": {
      "name": "python3",
      "display_name": "Python 3"
    }
  },
  "cells": [
    {
      "cell_type": "markdown",
      "metadata": {
        "id": "view-in-github",
        "colab_type": "text"
      },
      "source": [
        "<a href=\"https://colab.research.google.com/github/aikios/SAToxPredictions/blob/main/SDFtoCSV.ipynb\" target=\"_parent\"><img src=\"https://colab.research.google.com/assets/colab-badge.svg\" alt=\"Open In Colab\"/></a>"
      ]
    },
    {
      "cell_type": "markdown",
      "metadata": {
        "id": "cGNq9KsCzGaj"
      },
      "source": [
        "# Initialization\n"
      ]
    },
    {
      "cell_type": "code",
      "metadata": {
        "colab": {
          "base_uri": "https://localhost:8080/",
          "height": 72
        },
        "id": "s7165SW3WgP_",
        "outputId": "fb97ef29-7a1e-47aa-9dc6-ab4c37a9dde4"
      },
      "source": [
        "##necessary imports\n",
        "!pip install kora -q \n",
        "import os\n",
        "import kora.install.rdkit\n",
        "import gdown\n",
        "import csv \n",
        "import numpy as np\n",
        "import pandas as pd\n",
        "from rdkit import Chem\n",
        "from rdkit.Chem import Recap\n",
        "from rdkit.Chem import PandasTools as pdt\n",
        "from rdkit.Chem.Draw import IPythonConsole\n",
        "from rdkit.Chem import FunctionalGroups\n",
        "from collections import Counter\n",
        "\n",
        "data_path = 'https://drive.google.com/uc?id=1KHv0zCSm9IokR47DvRaQzkaot0RJ2NOz'\n",
        "catmos_qr50k = './CATMoS_QR50k.sdf'\n",
        "gdown.download(data_path, catmos_qr50k, True)"
      ],
      "execution_count": null,
      "outputs": [
        {
          "output_type": "stream",
          "text": [
            "\u001b[K     |████████████████████████████████| 61kB 2.5MB/s \n",
            "\u001b[K     |████████████████████████████████| 61kB 4.4MB/s \n",
            "\u001b[?25h"
          ],
          "name": "stdout"
        },
        {
          "output_type": "execute_result",
          "data": {
            "application/vnd.google.colaboratory.intrinsic+json": {
              "type": "string"
            },
            "text/plain": [
              "'./CATMoS_QR50k.sdf'"
            ]
          },
          "metadata": {
            "tags": []
          },
          "execution_count": 1
        }
      ]
    },
    {
      "cell_type": "code",
      "metadata": {
        "id": "LTk94kMAYGIq",
        "cellView": "form"
      },
      "source": [
        "#@title IFG setup (run this block)\n",
        "\n",
        "#  Original authors: Richard Hall and Guillaume Godin\n",
        "#  This file is part of the RDKit.\n",
        "#  The contents are covered by the terms of the BSD license\n",
        "#  which is included in the file license.txt, found at the root\n",
        "#  of the RDKit source tree.\n",
        "\n",
        "#\n",
        "#\n",
        "# Richard hall 2017\n",
        "# IFG main code\n",
        "# Guillaume Godin 2017\n",
        "# refine output function\n",
        "# astex_ifg: identify functional groups a la Ertl, J. Cheminform (2017) 9:36\n",
        "from collections import namedtuple\n",
        "\n",
        "def merge(mol, marked, aset):\n",
        "    bset = set()\n",
        "    for idx in aset:\n",
        "        atom = mol.GetAtomWithIdx(idx)\n",
        "        for nbr in atom.GetNeighbors():\n",
        "            jdx = nbr.GetIdx()\n",
        "            if jdx in marked:\n",
        "                marked.remove(jdx)\n",
        "                bset.add(jdx)\n",
        "    if not bset:\n",
        "        return\n",
        "    merge(mol, marked, bset)\n",
        "    aset.update(bset)\n",
        "\n",
        "# atoms connected by non-aromatic double or triple bond to any heteroatom\n",
        "# c=O should not match (see fig1, box 15).  I think using A instead of * should sort that out?\n",
        "PATT_DOUBLE_TRIPLE = Chem.MolFromSmarts('A=,#[!#6]')\n",
        "# atoms in non aromatic carbon-carbon double or triple bonds\n",
        "PATT_CC_DOUBLE_TRIPLE = Chem.MolFromSmarts('C=,#C')\n",
        "# acetal carbons, i.e. sp3 carbons connected to tow or more oxygens, nitrogens or sulfurs; these O, N or S atoms must have only single bonds\n",
        "PATT_ACETAL = Chem.MolFromSmarts('[CX4](-[O,N,S])-[O,N,S]')\n",
        "# all atoms in oxirane, aziridine and thiirane rings\n",
        "PATT_OXIRANE_ETC = Chem.MolFromSmarts('[O,N,S]1CC1')\n",
        "\n",
        "PATT_TUPLE = (PATT_DOUBLE_TRIPLE, PATT_CC_DOUBLE_TRIPLE, PATT_ACETAL, PATT_OXIRANE_ETC)\n",
        "\n",
        "def identify_functional_groups(mol):\n",
        "    marked = set()\n",
        "#mark all heteroatoms in a molecule, including halogens\n",
        "    for atom in mol.GetAtoms():\n",
        "        if atom.GetAtomicNum() not in (6,1): # would we ever have hydrogen?\n",
        "            marked.add(atom.GetIdx())\n",
        "\n",
        "#mark the four specific types of carbon atom\n",
        "    for patt in PATT_TUPLE:\n",
        "        for path in mol.GetSubstructMatches(patt):\n",
        "            for atomindex in path:\n",
        "                marked.add(atomindex)\n",
        "\n",
        "#merge all connected marked atoms to a single FG\n",
        "    groups = []\n",
        "    while marked:\n",
        "        grp = set([marked.pop()])\n",
        "        merge(mol, marked, grp)\n",
        "        groups.append(grp)\n",
        "\n",
        "#extract also connected unmarked carbon atoms\n",
        "    ifg = namedtuple('IFG', ['atomIds', 'atoms', 'type'])\n",
        "    ifgs = []\n",
        "    for g in groups:\n",
        "        uca = set()\n",
        "        for atomidx in g:\n",
        "            for n in mol.GetAtomWithIdx(atomidx).GetNeighbors():\n",
        "                if n.GetAtomicNum() == 6:\n",
        "                    uca.add(n.GetIdx())\n",
        "        ifgs.append(ifg(atomIds=tuple(list(g)), atoms=Chem.MolFragmentToSmiles(mol, g, canonical=True), type=Chem.MolFragmentToSmiles(mol, g.union(uca),canonical=True)))\n",
        "    return ifgs\n",
        "\n",
        "def main():\n",
        "    for ix, smiles in enumerate([\n",
        "        'Cc1nc(NS(=O)(=O)c2ccc(N)cc2)nc(C)c1', # fig1, 1\n",
        "        'NC(=N)c1ccc(C=Cc2ccc(cc2O)C(=N)N)cc1', # 2\n",
        "        'CC(=O)Nc1nnc(s1)S(=O)(=O)N', # 3\n",
        "        'NS(=O)(=O)c1cc2c(NCNS2(=O)=O)cc1Cl', # 4\n",
        "        'CNC1=Nc2ccc(Cl)cc2C(=N(=O)C1)c3ccccc3', # 5\n",
        "        'Cc1onc(c1C(=O)NC2C3SC(C)(C)C(N3C2=O)C(=O)O)c4ccccc4', # 6\n",
        "        'Clc1ccccc1C2=NCC(=O)Nc3ccc(cc23)N(=O)=O', # 7\n",
        "        'COc1cc(cc(C(=O)NCC2CCCN2CC=C)c1OC)S(=O)(=O)N', # 8\n",
        "        'Cc1ccc(Cl)c(Nc2ccccc2C(=O)O)c1Cl', # 9\n",
        "        'Clc1ccc2Oc3ccccc3N=C(N4CCNCC4)c2c1', # 10 - there is a discrepancy with the paper here!  I wonder if Peter has the ring as aromatic?\n",
        "        'FC(F)(F)CN1C(=O)CN=C(c2ccccc2)c3cc(Cl)ccc13', # 11\n",
        "        'OCC1OC(CC1O)n2cnc3C(O)CNC=Nc32', # 12\n",
        "        'CCNC1CC(C)S(=O)(=O)c2sc(cc12)S(=O)(=O)N', # 13\n",
        "        'CC(O)C1C2C(C)C(=C(N2C1=O)C(=O)O)SC3CNC(C3)C(=O)N(C)C', # 14\n",
        "        'CC1CN(CC(C)N1)c2c(F)c(N)c3c(=O)c(cn(C4CC4)c3c2F)C(=O)O', # 15\n",
        "        'CC(=CCC1C(=O)N(N(C1=O)c2ccccc2)c3ccccc3)C', # 16\n",
        "        'Clc1ccc2N=C3NC(=O)CN3Cc2c1Cl', # 17\n",
        "        'CC(=O)NC1C(NC(=N)N)C=C(OC1C(O)C(O)CO)C(=O)O', # 18\n",
        "        'CC(O)C(O)C1CNc2nc(N)nc(O)c2N1', # 19\n",
        "        'NC1CCCCN(C1)c2c(Cl)cc3c(=O)c(cn(C4CC4)c3c2Cl)C(=O)O', # 20\n",
        "    ]):\n",
        "        m = Chem.MolFromSmiles(smiles)\n",
        "        fgs = identify_functional_groups(m)\n",
        "        print('%2d: %d fgs'%(ix+1, len(fgs)), fgs)\n",
        "\n",
        "\n",
        "if __name__ == \"__main__\":\n",
        "    main()\n"
      ],
      "execution_count": null,
      "outputs": []
    },
    {
      "cell_type": "code",
      "metadata": {
        "colab": {
          "base_uri": "https://localhost:8080/",
          "height": 185
        },
        "id": "qExRsVCmYdCc",
        "outputId": "ba40b6d5-1395-4904-a059-142776843010"
      },
      "source": [
        "##examples of IFG and RDKit usage\n",
        "suppl = Chem.SDMolSupplier('CATMoS_QR50k.sdf')\n",
        "t = Chem.MolToSmiles(suppl[60])\n",
        "print(t)\n",
        "suppl[60]"
      ],
      "execution_count": null,
      "outputs": [
        {
          "output_type": "stream",
          "text": [
            "Cc1c(I)c(=O)n(-c2ccccc2)n1C\n"
          ],
          "name": "stdout"
        },
        {
          "output_type": "execute_result",
          "data": {
            "image/png": "[encoded data removed]",
            "text/plain": [
              "<rdkit.Chem.rdchem.Mol at 0x7fa845c30d00>"
            ]
          },
          "metadata": {
            "tags": []
          },
          "execution_count": 4
        }
      ]
    },
    {
      "cell_type": "code",
      "metadata": {
        "id": "EbMIYEWMa_9T"
      },
      "source": [
        "##example of functional group identification\n",
        "identify_functional_groups(suppl[60])"
      ],
      "execution_count": null,
      "outputs": []
    },
    {
      "cell_type": "markdown",
      "metadata": {
        "id": "2aeOznCidly9"
      },
      "source": [
        "# SDF TO CSV"
      ]
    },
    {
      "cell_type": "code",
      "metadata": {
        "id": "LD7UU4Bqf87G"
      },
      "source": [
        "##dataframe creation\n",
        "frame = pdt.LoadSDF(catmos_qr50k,smilesName='SMILES',molColName='Molecule', includeFingerprints=True)\n",
        "frame.info"
      ],
      "execution_count": null,
      "outputs": []
    },
    {
      "cell_type": "code",
      "metadata": {
        "id": "B-tQuwxCdpi8"
      },
      "source": [
        "##adding functional groups column\n",
        "frame[\"functionalgroups\"] = \"\""
      ],
      "execution_count": null,
      "outputs": []
    },
    {
      "cell_type": "code",
      "metadata": {
        "id": "4osjeNrB89xu"
      },
      "source": [
        "##for loop to identify, clean, and append functional groups\n",
        "iter = 0\n",
        "for mol in suppl:\n",
        "  try:\n",
        "    k = identify_functional_groups(mol)\n",
        "    z = []\n",
        "    for e in k:\n",
        "      b = str(e)[4:-1]\n",
        "      y = b.index('type')\n",
        "      x = y + 6\n",
        "      d = str(b)[x:-1]\n",
        "      z.append(d)\n",
        "    print(z)\n",
        "    frame.at[iter,'functionalgroups'] = z\n",
        "  except:\n",
        "    print(\"an exception...\")\n",
        "  iter += 1\n",
        "  \n",
        "  \n",
        "  \n",
        "\n",
        "  ## use iterator for dataframe insertion"
      ],
      "execution_count": null,
      "outputs": []
    },
    {
      "cell_type": "code",
      "metadata": {
        "colab": {
          "base_uri": "https://localhost:8080/"
        },
        "id": "Z3-kx-jOu6yW",
        "outputId": "04fc03d4-ed4c-47e8-a543-1f60824abe62"
      },
      "source": [
        "##creating csv for later use\n",
        "frame.to_csv('catmos_withfgs.csv')"
      ],
      "execution_count": null,
      "outputs": [
        {
          "output_type": "stream",
          "text": [
            "RDKit WARNING: [02:44:31] unsupported number of radical electrons 4\n"
          ],
          "name": "stderr"
        }
      ]
    }
  ]
}
